{
 "cells": [
  {
   "cell_type": "markdown",
   "metadata": {},
   "source": [
    "# Chapter 2: Our First Model"
   ]
  },
  {
   "cell_type": "code",
   "execution_count": 2,
   "metadata": {},
   "outputs": [],
   "source": [
    "import torch\n",
    "import torch.nn as nn\n",
    "import torch.optim as optim\n",
    "import torch.utils.data\n",
    "import torch.nn.functional as F\n",
    "import torchvision\n",
    "from torchvision import transforms\n",
    "from PIL import Image\n",
    "import os\n",
    "import numpy as np"
   ]
  },
  {
   "cell_type": "code",
   "execution_count": 6,
   "metadata": {},
   "outputs": [
    {
     "name": "stdout",
     "output_type": "stream",
     "text": [
      "Creating directory ./train/cat\n",
      "Creating directory ./train/fish\n",
      "Creating directory ./test/cat\n",
      "Creating directory ./test/fish\n",
      "Creating directory ./val/cat\n",
      "Creating directory ./val/fish\n",
      "Downloading 1393 images\n",
      "Error downloading http://farm1.static.flickr.com/1/1004525_cba96ba3c3.jpg\n",
      "Error downloading http://farm1.static.flickr.com/33/65048097_e5264bf855.jpg\n",
      "Error downloading http://farm3.static.flickr.com/2354/2102976081_61c8614be8.jpg\n",
      "Error downloading http://farm2.static.flickr.com/1390/709949156_5e4ac3f499.jpg\n",
      "Error downloading http://farm2.static.flickr.com/1221/1011749126_44a195db4c.jpg\n",
      "Error downloading http://farm1.static.flickr.com/173/416994740_6ada308baa.jpg\n",
      "Error downloading http://farm1.static.flickr.com/3/4193130_a058cdb81f.jpg\n",
      "Error downloading http://farm1.static.flickr.com/1/1004528_a111209743.jpg\n",
      "Error downloading http://farm1.static.flickr.com/223/522289072_13b4f92d39.jpg\n",
      "Error downloading http://farm1.static.flickr.com/28/100739452_5be2c11557.jpg\n",
      "Error downloading http://farm1.static.flickr.com/1/1004527_527c0c32ce.jpg\n",
      "Error downloading http://farm2.static.flickr.com/1424/643693002_6262c7c770.jpg\n",
      "Error downloading http://farm1.static.flickr.com/64/212787447_54775fb5a1.jpg\n",
      "Error downloading http://farm3.static.flickr.com/2254/2179694251_ef26b307a6.jpg\n",
      "Error downloading http://farm3.static.flickr.com/2271/1541882092_7df1c00498.jpg\n",
      "Error downloading http://farm2.static.flickr.com/1009/1011749668_fc48f28767.jpg\n",
      "Error downloading http://farm3.static.flickr.com/2165/1516104019_b530c585e4.jpg\n",
      "Error downloading http://farm3.static.flickr.com/2027/2103753994_715cd26e9c.jpg\n",
      "Error downloading http://farm1.static.flickr.com/139/359658792_76c6011a76.jpg\n",
      "Error downloading http://farm2.static.flickr.com/1409/1010205192_6ce1a37dc5.jpg\n",
      "Error downloading http://farm2.static.flickr.com/1204/529556475_2f8a2f8b23.jpg\n",
      "Error downloading http://farm1.static.flickr.com/9/75298993_347ab0387c.jpg\n",
      "Error downloading http://farm1.static.flickr.com/152/334132664_83e5b5af38.jpg\n",
      "Error downloading http://farm2.static.flickr.com/1183/928732762_eddd8d29af.jpg\n",
      "Error downloading http://farm1.static.flickr.com/136/320793638_f167ca1fc5.jpg\n",
      "Error downloading http://farm1.static.flickr.com/188/426029501_9ad83db536.jpg\n",
      "Error downloading http://farm1.static.flickr.com/100/298022772_916ace8b22.jpg\n",
      "Error downloading http://farm1.static.flickr.com/112/290162359_4d481ca788.jpg\n",
      "Error downloading http://farm1.static.flickr.com/200/522288612_1c9d01387b.jpg\n",
      "Error downloading http://farm1.static.flickr.com/139/358921684_5c9e336ba6.jpg\n",
      "Error downloading http://farm1.static.flickr.com/131/347285520_c9f4dc030b.jpg\n",
      "Error downloading http://farm2.static.flickr.com/1262/847517807_0216d39d30.jpg\n",
      "Error downloading http://farm2.static.flickr.com/1282/861774153_b4d1189962.jpg\n",
      "Error downloading http://farm2.static.flickr.com/1219/835393892_87b6a5e25e.jpg\n",
      "Error downloading http://farm1.static.flickr.com/163/356158507_ae17d2b83d.jpg\n",
      "Error downloading http://farm1.static.flickr.com/174/441338266_6ef76a092d.jpg\n",
      "Error downloading http://farm1.static.flickr.com/49/126757815_2b56006ae3.jpg\n",
      "Error downloading http://farm1.static.flickr.com/60/223217216_c9812a32b7.jpg\n",
      "Error downloading http://farm1.static.flickr.com/75/383039924_320a6cffcc.jpg\n",
      "Error downloading http://farm1.static.flickr.com/117/297949892_3532468343.jpg\n",
      "Error downloading http://farm1.static.flickr.com/49/112942284_3e525c90fd.jpg\n",
      "Error downloading http://farm3.static.flickr.com/2121/2198594925_0cdcb4b0bc.jpg\n",
      "Error downloading http://farm1.static.flickr.com/197/464579958_acedd32444.jpg\n",
      "Error downloading http://farm1.static.flickr.com/117/297949888_ff727f56d0.jpg\n",
      "Error downloading http://youdirtydog.info/index_files/image14201.jpg\n",
      "Error downloading http://www.off-n-trottin.com/images/Breyers%20and%20Kittens%20035.jpg\n",
      "Error downloading http://www.kittybreak.com/kitties/2006-02-17_adventurer.jpg\n",
      "Error downloading http://jackmaryetc.com/Travel/US/Colorado/images/052cat.jpg\n",
      "Error downloading http://www.petrescuemiami.com/Cat%20Photos/ZierTigerCat.jpg\n",
      "Error downloading http://www.arar93.dsl.pipex.com/mds975/Images/c_ronald_ginger_cat_01.jpg\n",
      "Error downloading http://www.unknownhighway.com/images/uploads/littletigercat-12-20-07-small.jpg\n",
      "Error downloading http://www.whitelightening.net/BuzzellTest/Creative/Tripp-TigerCat.jpg\n",
      "Error downloading http://www.for-cats-only.com/images/mySubms/reviewFurnitureTigerBed.jpg\n",
      "Error downloading http://www.kittybreak.com/kitties/2006-02-18_WatchfulMamaCat.jpg\n",
      "Error downloading http://www.safepets.co.uk/tiger3.JPG\n",
      "Error downloading http://news.nationalgeographic.com/news/2007/03/images/070321-toygers-photos_big.jpg\n",
      "Error downloading http://www.anyday.se/images/20070101220757_cat1.jpg\n",
      "Error downloading http://www.wallpaperweb.org/wallpaper/animals/thumbnail/Curious_Cat_Siberian_Tiger.jpg\n",
      "Error downloading http://images.art.com/images/products/large/10298000/10298902.jpg\n",
      "Error downloading http://www1.istockphoto.com/file_thumbview_approve/2754709/2/istockphoto_2754709_white_tiger.jpg\n",
      "Error downloading http://www.prestigiouspaw.com/tiger_op_450x600.jpg\n",
      "Error downloading http://www.stockphotospot.com/tiger-rubbing-against-a-tree-stock-photo-a66573.jpg\n",
      "Error downloading http://farm2.static.flickr.com/1132/1471994811_164d5a3f11.jpg\n",
      "Error downloading http://farm1.static.flickr.com/205/476956230_b3900bd668.jpg\n",
      "Error downloading http://farm1.static.flickr.com/132/386738725_f05b43aa50.jpg\n",
      "Error downloading http://farm1.static.flickr.com/230/465514643_ed172b3d7f.jpg\n",
      "Error downloading http://farm1.static.flickr.com/40/113565692_f3d86014e2.jpg\n",
      "Error downloading http://static.flickr.com/6/5733476_9266d6999b.jpg\n",
      "Error downloading http://static.flickr.com/74/223070551_857dc3264f.jpg\n",
      "Error downloading http://static.flickr.com/53/136562493_d7e2b71d6f.jpg\n",
      "Error downloading http://beccalou.com/blogimages/SleepingKitties01.jpg\n",
      "Error downloading http://farm1.static.flickr.com/32/94724274_83d737feec.jpg\n",
      "Error downloading http://farm1.static.flickr.com/153/358921562_e25275e771.jpg\n",
      "Error downloading http://farm1.static.flickr.com/229/498439925_56105ec829.jpg\n",
      "Error downloading http://farm1.static.flickr.com/4/5733484_a458450d64.jpg\n",
      "Error downloading http://farm2.static.flickr.com/1307/1171972141_6975842eae.jpg\n",
      "Error downloading http://farm1.static.flickr.com/25/40489215_3c98e1b7de.jpg\n",
      "Error downloading http://farm1.static.flickr.com/163/345925901_d5865b2585.jpg\n",
      "Error downloading http://farm1.static.flickr.com/116/366292337_d69effc0f7.jpg\n",
      "Error downloading http://farm1.static.flickr.com/14/16135136_262b1e984d.jpg\n",
      "Error downloading http://farm1.static.flickr.com/195/464580812_9a84a39d97.jpg\n",
      "Error downloading http://farm3.static.flickr.com/2247/2087049628_381e2034e1.jpg\n",
      "Error downloading http://farm3.static.flickr.com/2133/2233999520_1c493de45c.jpg\n",
      "Error downloading http://farm1.static.flickr.com/168/479775027_fbc2e23970.jpg\n",
      "Error downloading http://farm3.static.flickr.com/2409/2115133686_808ce0a5a5.jpg\n",
      "Error downloading http://farm1.static.flickr.com/220/498398268_aae3009df3.jpg\n",
      "Error downloading http://farm3.static.flickr.com/2023/2219782724_282abe79b7.jpg\n",
      "Error downloading http://farm3.static.flickr.com/2128/2102976045_289d3c9471.jpg\n",
      "Error downloading http://farm3.static.flickr.com/2083/2206140101_d64a7e3767.jpg\n",
      "Error downloading http://farm1.static.flickr.com/129/358922730_43d0ab8d2b.jpg\n",
      "Error downloading http://farm2.static.flickr.com/1437/927881425_8084c41b41.jpg\n",
      "Error downloading http://farm1.static.flickr.com/25/39351075_8ab1552d3e.jpg\n",
      "Error downloading http://farm3.static.flickr.com/2038/2157560924_19876ea4a2.jpg\n",
      "Error downloading http://farm3.static.flickr.com/2403/2151918390_d8c2dc0a62.jpg\n",
      "Error downloading http://farm1.static.flickr.com/27/57455726_8ccf14753f.jpg\n",
      "Error downloading http://farm1.static.flickr.com/185/426029368_3a9612f006.jpg\n",
      "Error downloading http://farm2.static.flickr.com/1133/1141687717_890fe14d8e.jpg\n",
      "Error downloading http://farm1.static.flickr.com/62/204035942_de0d323af5.jpg\n",
      "Error downloading http://farm2.static.flickr.com/1172/1323667952_a7a74975c4.jpg\n",
      "Error downloading http://farm1.static.flickr.com/42/84450056_bb5974a64f.jpg\n",
      "Error downloading http://farm4.static.flickr.com/3001/2776498771_20527f258b.jpg\n",
      "Error downloading http://farm4.static.flickr.com/3159/2824589595_07ee2443a3.jpg\n",
      "Error downloading http://farm4.static.flickr.com/3206/2970698030_1021311f52.jpg\n",
      "Error downloading http://farm2.static.flickr.com/1125/1348034256_cc50f5b446.jpg\n",
      "Error downloading http://farm3.static.flickr.com/2416/1833444691_dc3d1017db.jpg\n",
      "Error downloading http://farm3.static.flickr.com/2077/1834276056_4e86bacfe3.jpg\n",
      "Error downloading http://farm2.static.flickr.com/1231/1455910975_07315bf34e.jpg\n",
      "Error downloading http://farm2.static.flickr.com/1424/747119762_615603a9a0.jpg\n",
      "Error downloading http://farm1.static.flickr.com/79/233477721_0126cc0331.jpg\n",
      "Error downloading http://farm3.static.flickr.com/2056/2021607548_e0835d3552.jpg\n",
      "Error downloading http://farm2.static.flickr.com/1312/1287462891_f1a3e27b50.jpg\n",
      "Error downloading http://farm2.static.flickr.com/1322/1348044264_3e0ed6611e.jpg\n",
      "Error downloading http://farm4.static.flickr.com/3183/2791133165_5df1d47be5.jpg\n",
      "Error downloading http://farm4.static.flickr.com/3088/2776496087_1973f8dced.jpg\n",
      "Error downloading http://farm1.static.flickr.com/91/273635028_64f03c6389.jpg\n",
      "Error downloading http://farm4.static.flickr.com/3224/2777354896_176a518b8c.jpg\n",
      "Error downloading http://farm2.static.flickr.com/1103/840200833_be72b99848.jpg\n",
      "Error downloading http://farm2.static.flickr.com/1226/1140675688_2498ebdcc7.jpg\n",
      "Error downloading http://farm4.static.flickr.com/3005/3007583030_bd590c07e7.jpg\n",
      "Error downloading http://farm4.static.flickr.com/3218/2734977928_8d16b48c0a.jpg\n",
      "Error downloading http://farm4.static.flickr.com/3218/2776494507_7e4cd3a67e.jpg\n",
      "Error downloading http://farm2.static.flickr.com/1391/1087447360_c6037a47f5.jpg\n",
      "Error downloading http://farm4.static.flickr.com/3124/2297032796_b5eb52b860.jpg\n",
      "Error downloading http://farm4.static.flickr.com/3183/2806314103_c6a27c6a53.jpg\n",
      "Error downloading http://farm3.static.flickr.com/2356/2076921635_8146b3766d.jpg\n",
      "Error downloading http://farm4.static.flickr.com/3197/2897344494_fa0a244b55.jpg\n",
      "Error downloading http://farm4.static.flickr.com/3136/2791982160_14b08a4e3c.jpg\n",
      "Error downloading http://farm1.static.flickr.com/108/281045869_67c3f5355e.jpg\n",
      "Error downloading http://farm1.static.flickr.com/191/516600404_a300ca8625.jpg\n",
      "Error downloading http://farm2.static.flickr.com/1409/817922169_08b4a5f740.jpg\n",
      "Error downloading http://farm4.static.flickr.com/3161/2886597440_5b3a936f6d.jpg\n",
      "Error downloading http://farm2.static.flickr.com/1308/727088757_639eb2ccdb.jpg\n",
      "Error downloading http://farm1.static.flickr.com/97/248254722_719a163665.jpg\n",
      "Error downloading http://farm4.static.flickr.com/3202/2807167664_7f0c5891f6.jpg\n",
      "Error downloading http://farm2.static.flickr.com/1030/1348098964_4b8c2450e9.jpg\n",
      "Error downloading http://farm4.static.flickr.com/3227/2667317126_10ee1f1a17.jpg\n",
      "Error downloading http://farm3.static.flickr.com/2390/2046214400_f29df69336.jpg\n",
      "Error downloading http://www.thebassethound.com/images/king1-sm.jpg\n",
      "Error downloading http://www.idohuntak.com/images/VInhCoho.jpg\n",
      "Error downloading http://www.fishinginternational.com/location/canastamp/stamp3.gif\n",
      "Error downloading http://www.widespreadfishing.com/images_gallery/04%20silver%20salmon%20small.jpg\n",
      "Error downloading http://www.kenairiverhideaway.com/pix1/pat3.jpg\n",
      "Error downloading http://www.pec.on.ca/fish/trophycoho.jpg\n",
      "Error downloading http://www.hamra.net/fun/fish/pics/gsilvers.jpg\n",
      "Error downloading http://www.alaskarivertrips.com/images/443.guest%20chrome%20silver%20w%20fly.jpg\n",
      "Error downloading http://www.highadventureair.com/IMG_4037273.jpg\n",
      "Error downloading http://photos.oregonlive.com/photogallery/f43aa33cdff2bbd5e0173ab7a9460f04.jpg\n",
      "Error downloading http://www.greatriverfishing.com/images/Small/PicCoho6_small.jpg\n",
      "Error downloading http://www.chrisbrooks.org/content/binary/20040808JacobSalmon.jpg\n",
      "Error downloading http://www.greatriverfishing.com/images/Small/PicCoho14_small.jpg\n",
      "Error downloading http://www.lakemarie.com/Silver%20Salmon/Leo-Silver%20Salmon.jpg\n",
      "Error downloading http://image59.webshots.com/459/3/97/24/2362397240073428963uOVsAS_ph.jpg\n",
      "Error downloading http://www.atmos.washington.edu/~mantua/images/silver2.gif\n",
      "Error downloading http://www.alaskafishingandlodging.com/silver_salmon/photos/silver_salmon_002.jpg\n",
      "Error downloading http://outboundalaskacharters.com/images/fish/silver.jpg\n",
      "Error downloading http://www.fish4salmon.com/pictures/silvers/Ultralight_salmon_fishing_small.jpg\n",
      "Error downloading http://sportfishingketchikan.com/Sportfish%20Pics/Picture16.jpg\n",
      "Error downloading http://www.charliemoore.com/images/5-pound-bass/dennis.jpg\n",
      "Error downloading http://www.portlandsalmonfishing.com/images/prices_pg/coho_salmon_sm.jpg\n",
      "Error downloading http://www.southlakedecoys.com/html/decfish/deccoho.jpg\n",
      "Error downloading http://www.anchorriverlodge.com/images/dad_king.jpg\n",
      "Error downloading http://www.kodiakwilderness.com/pageImages/34-8image.jpg\n",
      "Error downloading http://www.theoutdoorconnection.com/directory/logo/408.jpg\n",
      "Error downloading http://www.akfishermanschoice.com/images/photos19_med.jpg\n",
      "Error downloading http://www.salmoneye.net/siteimages/chinook_salmon.jpg\n",
      "Error downloading http://www.alaskaoffshoreadventures.com/pics/kingkt.jpg\n",
      "Error downloading http://www.eacmarin.org/images/home/coho.jpg\n",
      "Error downloading http://www.anchorage.net/data/mem_images/2662.jpg\n",
      "Error downloading http://www.rodgunresources.com/alaskawildernessfishing/images/alaskan-salmon.jpg\n",
      "Error downloading http://www.lakemarie.com/Silver%20Salmon/Ken's%20Silver%20Salmon.jpg\n",
      "Error downloading http://www.akfishermanschoice.com/images/fishing_pics/silversalmonpic2.jpg\n",
      "Error downloading http://www.fishorhunt.com/gallery/silver_salmon_father_son.jpg\n",
      "Error downloading http://alaska.pinnacle-travel.org/images/big_king.jpg\n",
      "Error downloading http://farm3.static.flickr.com/2288/1956494336_5591fa37da.jpg\n",
      "Error downloading http://farm3.static.flickr.com/2386/1879139277_71ea573139.jpg\n",
      "Error downloading http://farm3.static.flickr.com/2080/2483223708_dd90747f10.jpg\n",
      "Error downloading http://farm3.static.flickr.com/2084/1879253211_7ea061692c.jpg\n",
      "Error downloading http://static.flickr.com/86/256085367_30d8e98fa4.jpg\n",
      "Error downloading http://static.flickr.com/1417/747122396_3de7f87df3.jpg\n",
      "Error downloading http://www.aegmedia.com/blog/tbd/uploaded_images/IMG_0673-787866.JPG\n",
      "Error downloading http://www.plu.edu/~christdr/Krivers%20Guide%20Service/Silver%20Salmon_files/Dscf0018_018.jpg\n",
      "Error downloading http://www.foxbaylodge.com/images/2004/andrew-king-salmon.jpg\n",
      "Error downloading http://www.dfg.ca.gov/fish/images/FishOnly/CohoSalmon_ByErnest%20Keeley.jpg\n",
      "Error downloading http://farm3.static.flickr.com/2410/2306403424_76da5bb38a.jpg\n",
      "Error downloading http://farm1.static.flickr.com/94/233611459_cc673f6203.jpg\n",
      "Error downloading http://farm4.static.flickr.com/3238/2777353898_99db69973e.jpg\n",
      "Error downloading http://farm4.static.flickr.com/3245/2806316749_a85a2e1d0f.jpg\n",
      "Error downloading http://farm2.static.flickr.com/1264/1278651880_44fe8f9b70.jpg\n",
      "Error downloading http://farm1.static.flickr.com/91/260564886_6c66708343.jpg\n",
      "Error downloading http://farm1.static.flickr.com/46/154165958_2428872100.jpg\n",
      "Error downloading http://farm3.static.flickr.com/2151/2077711662_c9da691b0a.jpg\n",
      "Error downloading http://farm2.static.flickr.com/1251/1084292263_542314f2ed.jpg\n",
      "Error downloading http://farm4.static.flickr.com/3088/2294965469_d200313929.jpg\n",
      "Error downloading http://farm4.static.flickr.com/3155/2897344310_0cb98bf481.jpg\n",
      "Error downloading http://farm4.static.flickr.com/3219/3006747829_8658331ecd.jpg\n",
      "Error downloading http://farm1.static.flickr.com/254/521168219_ad61ac2925.jpg\n",
      "Error downloading http://farm1.static.flickr.com/32/50021271_c261cd4746.jpg\n",
      "Error downloading http://farm3.static.flickr.com/2341/2021603270_2e53566a23.jpg\n",
      "Error downloading http://farm4.static.flickr.com/3073/2791982836_fefc141d11.jpg\n",
      "Error downloading http://farm2.static.flickr.com/1115/1388069914_0ecc61170d.jpg\n",
      "Error downloading http://farm2.static.flickr.com/1302/1242460238_57b66f8072.jpg\n",
      "Error downloading http://farm2.static.flickr.com/1273/1183434487_0de54007df.jpg\n",
      "Error downloading http://farm1.static.flickr.com/97/273635025_5ca2b872b9.jpg\n",
      "Error downloading http://farm2.static.flickr.com/1153/1155345869_3f36e2785b.jpg\n",
      "Error downloading http://farm2.static.flickr.com/1082/1010685601_0b99c42459.jpg\n",
      "Error downloading http://farm4.static.flickr.com/3130/2791131243_7b257bc08b.jpg\n",
      "Error downloading http://farm2.static.flickr.com/1124/917843339_6485bec882.jpg\n",
      "Error downloading http://farm4.static.flickr.com/3265/2791983612_b1ef77c740.jpg\n",
      "Error downloading http://farm2.static.flickr.com/1104/1061636927_55150f759c.jpg\n",
      "Error downloading http://farm2.static.flickr.com/1182/1155341513_68ffbeb5f5.jpg\n",
      "Error downloading http://farm4.static.flickr.com/3096/2638045329_4d8166932d.jpg\n",
      "Error downloading http://farm4.static.flickr.com/3205/2919672812_a2deec6048.jpg\n",
      "Error downloading http://farm3.static.flickr.com/2016/2021623960_46399ec0ef.jpg\n",
      "Error downloading http://farm2.static.flickr.com/1020/1225404080_8048600a94.jpg\n",
      "Error downloading http://farm4.static.flickr.com/3257/2791981278_00389ecea0.jpg\n",
      "Error downloading http://farm1.static.flickr.com/45/171147851_0fa3cc8321.jpg\n",
      "Error downloading http://farm2.static.flickr.com/1117/1347194721_589b1b7c93.jpg\n",
      "Error downloading http://farm2.static.flickr.com/1280/1140037425_fc25db4d3e.jpg\n",
      "Error downloading http://www.fishingoregon.net/images/PNGSsalmon07.jpg\n",
      "Error downloading http://www.portlandsalmonfishing.com/images/salmon_pg/group_salmon_fishing.jpg\n",
      "Error downloading http://www.self-catering-breaks.com/images/property_pictures/7654_1163794241.jpg\n",
      "Error downloading http://www.aktroutfitters.com/images/silvers.jpg\n",
      "Error downloading http://www.salmonsafe.org/images/coho.jpg\n",
      "Error downloading http://spotted.charleston.net/images/12/photos/2007/11/15/gallery/3147.jpg\n",
      "Error downloading http://michiganstreamside.com/upcoming2.jpg\n",
      "Error downloading http://www.cordovarose.com/images/silversalmon.jpg\n",
      "Error downloading http://www.driftingonthefly.com/images/rainbows/sctrnbw06_07.jpg\n",
      "Error downloading http://www.tyeeatercharters.com/images/coho_salmon.jpg\n",
      "Error downloading http://www.charterboatsbc.com/images/heros/salmon.jpg\n",
      "Error downloading http://www.skeetchestn.ca/Natural%20Resources%20Website/SARAImages/CSalmon.jpg\n",
      "Error downloading http://www2.kpr.edu.on.ca/cdciw/biomes/king1.jpg\n",
      "Error downloading http://www.mattfender.net/alaska/dave%20with%20two%20silvers.jpg\n",
      "Error downloading http://bonshellfishing.com/G.%20L.%20Salmon%20&%20Trout%20Description%20Pg%202007/Coho%20Salmon%20%20IMG_0970.JPG\n",
      "Error downloading http://www.orcalodge.com/13.jpg\n",
      "Error downloading http://www.alaskanfishingadventures.com/PB280171.JPG\n",
      "Error downloading http://img5.travelblog.org/Photos/45963/199454/t/1491860-Big-silver-0.jpg\n",
      "Error downloading http://www.zenwaiterwest.com/photos/july22-30%202005%20Salmon%20Fishing%20%20Ch%202/coho%20spring%20ling%20cod%20salmon%20toquart%20bay%20bc.jpg\n",
      "Error downloading http://www.gosalmonfishing.com/gsfgallery/slides/ryans%20big%20coho.jpg\n",
      "Error downloading http://profish-n-sea.com/images/blond_w_silver_small.jpg\n",
      "Error downloading http://jigsandreels.net/images/headers/header_1.jpg\n",
      "Error downloading http://alagnakriverlodge.com/images/pics03/mcgrewsilvers.jpg\n",
      "Error downloading http://www.lakemarie.com/Silver%20Salmon/Silver%20Salmon%202.jpg\n",
      "Error downloading http://www.portlandgeneral.com/community_and_env/hydropower_and_fish/images/coho_salmon.jpg\n",
      "Error downloading http://www.bcsturgeon.com/images/salmon-4.jpg\n",
      "Error downloading http://www.greatriverfishing.com/images/PicsPage/PicCoho10.jpg\n",
      "Error downloading http://lh4.ggpht.com/_nxVO3CjsCCc/SKIFZDgR7-I/AAAAAAAAAUQ/Ce-4FimudFo/Alaska_08+(16).jpg\n",
      "Error downloading http://www.northwestflyfisherman.com/images/markchinook.jpg\n",
      "Error downloading http://www.landsendlodge.com/images/stories/Gallery2/Lots-of-silver-salmon.jpg\n",
      "Error downloading http://www.profishingguide.com/Images/September_Nine_Big_COHO.jpg\n",
      "Error downloading http://natronair.com/photos/imgs/navbl.jpg\n",
      "Error downloading http://www.moosecreek.com/ni.JPG\n",
      "Error downloading http://image18.webshots.com/18/1/88/55/192318855dWPDtw_fs.jpg\n",
      "Error downloading http://www.alaskanfishing.com/photos/silversalmon226at180.jpg\n",
      "Error downloading http://www.alaskagoodtimecharters.com/sys/docs/38.jpg\n",
      "Error downloading http://www.anglersalibi.com/200308silver.jpg\n",
      "Error downloading http://i.pbase.com/u39/statu/upload/32462078.bearandlunch.jpg\n",
      "Error downloading http://www.deltanewsweb.com/archives/images/20021016_coho.jpg\n",
      "Error downloading http://www.handsontheland.org/sitedata/wolf/coho01.jpg\n",
      "Error downloading http://www.trophycatchcharters.com/i/fish%20pictures/billsilver2.jpg\n",
      "Error downloading http://www.nahabayoutdooradventures.com/bryan_pradines_silver.jpg\n",
      "Error downloading http://www.massethouse.com/picture_library/swfishing_gallery/Coho%20Fly_std.jpg\n",
      "Error downloading http://www.alaskaflyfish.net/bwhiting2.jpg\n",
      "Error downloading http://www.thefishhouse.net/images/salmon_page.jpg\n",
      "Error downloading http://www.southbeachfishmarket.com/images/salmonsf.jpg\n",
      "Error downloading http://raincoastresearch.org/graphics/images/coho-ad-w250.jpg\n",
      "Error downloading http://www.paintercreeklodge.com/pcl10.jpg\n",
      "Error downloading http://www.alaskafishingandlodging.com/silver_salmon/photos/silver_salmon_004.jpg\n",
      "Error downloading http://www.alaskatrophyadventures.com/billchar-1wbrdy.jpg\n",
      "Error downloading http://fishstjoseph.com/images/photos/wierenga.JPG\n",
      "Error downloading http://www.lakemarie.com/Silver%20Salmon/Ken's%20Silver%20Salmon%202.jpg\n",
      "Error downloading http://www.babyboomersguide.co.nz/site/babyboomers/images/trout_fishing/USA/Silver_King_salmon_1.jpg\n",
      "Error downloading http://www.mtaonline.net/%7ebrown/yoksilver.jpg\n",
      "Error downloading http://www.fishinginternational.com/location/alaskarluk/patsy.gif\n",
      "Error downloading http://image20.webshots.com/21/1/81/99/192318199YhVkyf_fs.jpg\n",
      "Error downloading http://www.greatriverfishing.com/images/Small/PicCoho3_small.jpg\n",
      "Error downloading http://www.pittriver.com/images/text-photo-coho1.jpg\n",
      "Error downloading http://www.public.asu.edu/~bvogt/mtn/alaska/21/d_with_silver_eyak.jpg\n",
      "Error downloading http://www.coffmancovecharters.com/HappyJoanne.jpg\n",
      "Error downloading http://www.mtaonline.net/%7ebrown/silveranchor.jpg\n",
      "Error downloading http://www.sewardak.org/images/misc/page_photos/Anna%20caught%20a%20silver.jpg\n",
      "Error downloading http://www.pnwsalmoncenter.org/images/coho_spawning2.jpg\n",
      "Error downloading http://fishthesalmonriver.com/albums/rome_taxidermy/DanCarleCoho.thumb.jpg\n",
      "Error downloading http://www.lenssportfishing-bc.com/images/home2.jpg\n",
      "Error downloading http://www.alaskariveradventures.com/images/king%20salmon%20by%20stephanie%20holland.jpg\n",
      "Error downloading http://www.bearsdenlodge.com/images/salmonjeff.jpg\n",
      "Error downloading http://www.grayling-on-a-fly.com/images/man-salmon.jpg\n",
      "Error downloading http://akoffshoreoutfitters.com/gallery/images/SilverSalmon.jpg\n",
      "Error downloading http://www.creeksideflyfishing.com/Salmon2003.jpg\n",
      "Error downloading http://www.bristolbayadventures.com/images/silver_salmon_fishing_2.jpg\n",
      "Error downloading http://alaskanadventures.biz/images/fishboat251.jpg\n",
      "Error downloading http://www.gwinslodge.com/KENPHIL-SILVER.jpg\n",
      "Error downloading http://i20.photobucket.com/albums/b218/grandpawrichard/Alaska%20Fishing%202008/AhappygroupwithsomeniceCohoSalmonsm.jpg\n",
      "Error downloading http://www.guidebc.com/images/img0085_300.jpg\n",
      "Error downloading http://www.zoo.utoronto.ca/manuesteve/cohodigging1.jpg\n",
      "Error downloading http://www.flycastingguide.com/images/3478912/images/Chris%20with%20Coho%20Salmon.jpg\n",
      "Error downloading http://www.skeetchestn.ca/Natural%20Resources%20Website/SARAImages/CSalmon2.jpg\n",
      "Error downloading http://www.alaskan-fishing-lodges.com/anasilver.jpg\n",
      "Error downloading http://www.fish-hawk.net/gallery/albums/userpics/10498/normal_PL%20Coho%20May%2029th.jpg\n",
      "Error downloading http://wildsalmoncenter.org/i/salmon/coho_spawn.jpg\n",
      "Error downloading http://www.acefishn.com/albums/Silver-Salmon/2003_Silver.sized.jpg\n"
     ]
    }
   ],
   "source": [
    "!python download.py"
   ]
  },
  {
   "cell_type": "code",
   "execution_count": 3,
   "metadata": {},
   "outputs": [],
   "source": [
    "import imageio\n",
    "import matplotlib.pyplot as plt"
   ]
  },
  {
   "cell_type": "markdown",
   "metadata": {},
   "source": [
    "Clean the folders from\n",
    "\n",
    "a) all the files that have zero bytes, those had been incorrectly downloaded\n",
    "b) all the files that cannot be read"
   ]
  },
  {
   "cell_type": "code",
   "execution_count": 4,
   "metadata": {},
   "outputs": [],
   "source": [
    "import imageio\n",
    "import matplotlib.pyplot as plt\n",
    "baseDir = os.getcwd()\n",
    "baseFolders = ['test','train','val']\n",
    "dataFolders = ['fish','cat']\n",
    "for k1 in np.arange(0,3):\n",
    "    for k2 in np.arange(0,2):\n",
    "        currDir = (baseDir+\"\\\\\"+baseFolders[k1]+\"\\\\\"+dataFolders[k2])\n",
    "        #print(currDir)\n",
    "        currDir_files = os.listdir(currDir)\n",
    "        #len(currDir_files)\n",
    "        for k in np.arange(0,len(currDir_files)): # enumerate(currDir_files):\n",
    "            currFile = os.path.join(currDir,currDir_files[k])\n",
    "            if (os.path.getsize( currFile)<4000):\n",
    "                os.remove(currFile)\n",
    "            else:\n",
    "                try:\n",
    "                    #print(currFile) \n",
    "                    fileHandler = open(currFile, \"r\")\n",
    "                    im = imageio.imread(currFile)\n",
    "                except:\n",
    "                    fileHandler.close()\n",
    "                    #im.close()\n",
    "                    print(currFile)                  \n",
    "                    print(fileHandler.closed)\n",
    "                    #os.close(fileHandler)\n",
    "                    #print(fileHandler.closed)\n",
    "                    #fileHandler = close(currFile, \"r\")\n",
    "                    #os.close(currFile)\n",
    "                    #os.remove(currFile)"
   ]
  },
  {
   "cell_type": "code",
   "execution_count": 54,
   "metadata": {},
   "outputs": [
    {
     "name": "stdout",
     "output_type": "stream",
     "text": [
      ".ipynb_checkpoints\n",
      "test\n",
      "train\n",
      "val\n",
      "cat\n",
      "fish\n",
      "cat\n",
      "fish\n",
      "cat\n",
      "fish\n"
     ]
    }
   ],
   "source": [
    "#baseDir = os.getcwd()\n",
    "#for root, dirs, files in os.walk(baseDir):\n",
    "#    for name in dirs:\n",
    "#        print(name)"
   ]
  },
  {
   "cell_type": "markdown",
   "metadata": {},
   "source": [
    "## Setting up DataLoaders\n",
    "\n",
    "We'll use the built-in dataset of `torchvision.datasets.ImageFolder` to quickly set up some dataloaders of downloaded cat and fish images. \n",
    "\n",
    "`check_image`  is a quick little function that is passed to the `is_valid_file` parameter in the ImageFolder and will do a sanity check to make sure PIL can actually open the file. We're going to use this in lieu of cleaning up the downloaded dataset.\n"
   ]
  },
  {
   "cell_type": "code",
   "execution_count": 5,
   "metadata": {},
   "outputs": [],
   "source": [
    "def check_image(path):\n",
    "    try:\n",
    "        im = Image.open(path)\n",
    "        return True\n",
    "    except:\n",
    "        return False"
   ]
  },
  {
   "cell_type": "markdown",
   "metadata": {},
   "source": [
    "Set up the transforms for every image:\n",
    "\n",
    "* Resize to 64x64\n",
    "* Convert to tensor\n",
    "* Normalize using ImageNet mean & std\n"
   ]
  },
  {
   "cell_type": "code",
   "execution_count": 6,
   "metadata": {},
   "outputs": [],
   "source": [
    "img_transforms = transforms.Compose([\n",
    "    transforms.Resize((64,64)),    \n",
    "    transforms.ToTensor(),\n",
    "    transforms.Normalize(mean=[0.485, 0.456, 0.406],\n",
    "                    std=[0.229, 0.224, 0.225] )\n",
    "    ])\n",
    "\n"
   ]
  },
  {
   "cell_type": "code",
   "execution_count": 10,
   "metadata": {},
   "outputs": [
    {
     "ename": "FileNotFoundError",
     "evalue": "Found no valid file for the classes cat, fish. ",
     "output_type": "error",
     "traceback": [
      "\u001b[1;31m---------------------------------------------------------------------------\u001b[0m",
      "\u001b[1;31mFileNotFoundError\u001b[0m                         Traceback (most recent call last)",
      "\u001b[1;32m<ipython-input-10-d7bf6129566d>\u001b[0m in \u001b[0;36m<module>\u001b[1;34m\u001b[0m\n\u001b[0;32m      1\u001b[0m \u001b[0mtrain_data_path\u001b[0m \u001b[1;33m=\u001b[0m \u001b[1;34m\"./train/\"\u001b[0m\u001b[1;33m\u001b[0m\u001b[1;33m\u001b[0m\u001b[0m\n\u001b[1;32m----> 2\u001b[1;33m \u001b[0mtrain_data\u001b[0m \u001b[1;33m=\u001b[0m \u001b[0mtorchvision\u001b[0m\u001b[1;33m.\u001b[0m\u001b[0mdatasets\u001b[0m\u001b[1;33m.\u001b[0m\u001b[0mImageFolder\u001b[0m\u001b[1;33m(\u001b[0m\u001b[0mroot\u001b[0m\u001b[1;33m=\u001b[0m\u001b[0mtrain_data_path\u001b[0m\u001b[1;33m,\u001b[0m\u001b[0mtransform\u001b[0m\u001b[1;33m=\u001b[0m\u001b[0mimg_transforms\u001b[0m\u001b[1;33m,\u001b[0m \u001b[0mis_valid_file\u001b[0m\u001b[1;33m=\u001b[0m\u001b[0mcheck_image\u001b[0m\u001b[1;33m)\u001b[0m\u001b[1;33m\u001b[0m\u001b[1;33m\u001b[0m\u001b[0m\n\u001b[0m",
      "\u001b[1;32m~\\Anaconda3\\lib\\site-packages\\torchvision\\datasets\\folder.py\u001b[0m in \u001b[0;36m__init__\u001b[1;34m(self, root, transform, target_transform, loader, is_valid_file)\u001b[0m\n\u001b[0;32m    308\u001b[0m             \u001b[0mis_valid_file\u001b[0m\u001b[1;33m:\u001b[0m \u001b[0mOptional\u001b[0m\u001b[1;33m[\u001b[0m\u001b[0mCallable\u001b[0m\u001b[1;33m[\u001b[0m\u001b[1;33m[\u001b[0m\u001b[0mstr\u001b[0m\u001b[1;33m]\u001b[0m\u001b[1;33m,\u001b[0m \u001b[0mbool\u001b[0m\u001b[1;33m]\u001b[0m\u001b[1;33m]\u001b[0m \u001b[1;33m=\u001b[0m \u001b[1;32mNone\u001b[0m\u001b[1;33m,\u001b[0m\u001b[1;33m\u001b[0m\u001b[1;33m\u001b[0m\u001b[0m\n\u001b[0;32m    309\u001b[0m     ):\n\u001b[1;32m--> 310\u001b[1;33m         super(ImageFolder, self).__init__(root, loader, IMG_EXTENSIONS if is_valid_file is None else None,\n\u001b[0m\u001b[0;32m    311\u001b[0m                                           \u001b[0mtransform\u001b[0m\u001b[1;33m=\u001b[0m\u001b[0mtransform\u001b[0m\u001b[1;33m,\u001b[0m\u001b[1;33m\u001b[0m\u001b[1;33m\u001b[0m\u001b[0m\n\u001b[0;32m    312\u001b[0m                                           \u001b[0mtarget_transform\u001b[0m\u001b[1;33m=\u001b[0m\u001b[0mtarget_transform\u001b[0m\u001b[1;33m,\u001b[0m\u001b[1;33m\u001b[0m\u001b[1;33m\u001b[0m\u001b[0m\n",
      "\u001b[1;32m~\\Anaconda3\\lib\\site-packages\\torchvision\\datasets\\folder.py\u001b[0m in \u001b[0;36m__init__\u001b[1;34m(self, root, loader, extensions, transform, target_transform, is_valid_file)\u001b[0m\n\u001b[0;32m    144\u001b[0m                                             target_transform=target_transform)\n\u001b[0;32m    145\u001b[0m         \u001b[0mclasses\u001b[0m\u001b[1;33m,\u001b[0m \u001b[0mclass_to_idx\u001b[0m \u001b[1;33m=\u001b[0m \u001b[0mself\u001b[0m\u001b[1;33m.\u001b[0m\u001b[0mfind_classes\u001b[0m\u001b[1;33m(\u001b[0m\u001b[0mself\u001b[0m\u001b[1;33m.\u001b[0m\u001b[0mroot\u001b[0m\u001b[1;33m)\u001b[0m\u001b[1;33m\u001b[0m\u001b[1;33m\u001b[0m\u001b[0m\n\u001b[1;32m--> 146\u001b[1;33m         \u001b[0msamples\u001b[0m \u001b[1;33m=\u001b[0m \u001b[0mself\u001b[0m\u001b[1;33m.\u001b[0m\u001b[0mmake_dataset\u001b[0m\u001b[1;33m(\u001b[0m\u001b[0mself\u001b[0m\u001b[1;33m.\u001b[0m\u001b[0mroot\u001b[0m\u001b[1;33m,\u001b[0m \u001b[0mclass_to_idx\u001b[0m\u001b[1;33m,\u001b[0m \u001b[0mextensions\u001b[0m\u001b[1;33m,\u001b[0m \u001b[0mis_valid_file\u001b[0m\u001b[1;33m)\u001b[0m\u001b[1;33m\u001b[0m\u001b[1;33m\u001b[0m\u001b[0m\n\u001b[0m\u001b[0;32m    147\u001b[0m \u001b[1;33m\u001b[0m\u001b[0m\n\u001b[0;32m    148\u001b[0m         \u001b[0mself\u001b[0m\u001b[1;33m.\u001b[0m\u001b[0mloader\u001b[0m \u001b[1;33m=\u001b[0m \u001b[0mloader\u001b[0m\u001b[1;33m\u001b[0m\u001b[1;33m\u001b[0m\u001b[0m\n",
      "\u001b[1;32m~\\Anaconda3\\lib\\site-packages\\torchvision\\datasets\\folder.py\u001b[0m in \u001b[0;36mmake_dataset\u001b[1;34m(directory, class_to_idx, extensions, is_valid_file)\u001b[0m\n\u001b[0;32m    190\u001b[0m                 \u001b[1;34m\"The class_to_idx parameter cannot be None.\"\u001b[0m\u001b[1;33m\u001b[0m\u001b[1;33m\u001b[0m\u001b[0m\n\u001b[0;32m    191\u001b[0m             )\n\u001b[1;32m--> 192\u001b[1;33m         \u001b[1;32mreturn\u001b[0m \u001b[0mmake_dataset\u001b[0m\u001b[1;33m(\u001b[0m\u001b[0mdirectory\u001b[0m\u001b[1;33m,\u001b[0m \u001b[0mclass_to_idx\u001b[0m\u001b[1;33m,\u001b[0m \u001b[0mextensions\u001b[0m\u001b[1;33m=\u001b[0m\u001b[0mextensions\u001b[0m\u001b[1;33m,\u001b[0m \u001b[0mis_valid_file\u001b[0m\u001b[1;33m=\u001b[0m\u001b[0mis_valid_file\u001b[0m\u001b[1;33m)\u001b[0m\u001b[1;33m\u001b[0m\u001b[1;33m\u001b[0m\u001b[0m\n\u001b[0m\u001b[0;32m    193\u001b[0m \u001b[1;33m\u001b[0m\u001b[0m\n\u001b[0;32m    194\u001b[0m     \u001b[1;32mdef\u001b[0m \u001b[0mfind_classes\u001b[0m\u001b[1;33m(\u001b[0m\u001b[0mself\u001b[0m\u001b[1;33m,\u001b[0m \u001b[0mdirectory\u001b[0m\u001b[1;33m:\u001b[0m \u001b[0mstr\u001b[0m\u001b[1;33m)\u001b[0m \u001b[1;33m->\u001b[0m \u001b[0mTuple\u001b[0m\u001b[1;33m[\u001b[0m\u001b[0mList\u001b[0m\u001b[1;33m[\u001b[0m\u001b[0mstr\u001b[0m\u001b[1;33m]\u001b[0m\u001b[1;33m,\u001b[0m \u001b[0mDict\u001b[0m\u001b[1;33m[\u001b[0m\u001b[0mstr\u001b[0m\u001b[1;33m,\u001b[0m \u001b[0mint\u001b[0m\u001b[1;33m]\u001b[0m\u001b[1;33m]\u001b[0m\u001b[1;33m:\u001b[0m\u001b[1;33m\u001b[0m\u001b[1;33m\u001b[0m\u001b[0m\n",
      "\u001b[1;32m~\\Anaconda3\\lib\\site-packages\\torchvision\\datasets\\folder.py\u001b[0m in \u001b[0;36mmake_dataset\u001b[1;34m(directory, class_to_idx, extensions, is_valid_file)\u001b[0m\n\u001b[0;32m    100\u001b[0m         \u001b[1;32mif\u001b[0m \u001b[0mextensions\u001b[0m \u001b[1;32mis\u001b[0m \u001b[1;32mnot\u001b[0m \u001b[1;32mNone\u001b[0m\u001b[1;33m:\u001b[0m\u001b[1;33m\u001b[0m\u001b[1;33m\u001b[0m\u001b[0m\n\u001b[0;32m    101\u001b[0m             \u001b[0mmsg\u001b[0m \u001b[1;33m+=\u001b[0m \u001b[1;34mf\"Supported extensions are: {', '.join(extensions)}\"\u001b[0m\u001b[1;33m\u001b[0m\u001b[1;33m\u001b[0m\u001b[0m\n\u001b[1;32m--> 102\u001b[1;33m         \u001b[1;32mraise\u001b[0m \u001b[0mFileNotFoundError\u001b[0m\u001b[1;33m(\u001b[0m\u001b[0mmsg\u001b[0m\u001b[1;33m)\u001b[0m\u001b[1;33m\u001b[0m\u001b[1;33m\u001b[0m\u001b[0m\n\u001b[0m\u001b[0;32m    103\u001b[0m \u001b[1;33m\u001b[0m\u001b[0m\n\u001b[0;32m    104\u001b[0m     \u001b[1;32mreturn\u001b[0m \u001b[0minstances\u001b[0m\u001b[1;33m\u001b[0m\u001b[1;33m\u001b[0m\u001b[0m\n",
      "\u001b[1;31mFileNotFoundError\u001b[0m: Found no valid file for the classes cat, fish. "
     ]
    }
   ],
   "source": [
    "train_data_path = \"./train/\"\n",
    "train_data = torchvision.datasets.ImageFolder(root=train_data_path,transform=img_transforms, is_valid_file=check_image)"
   ]
  },
  {
   "cell_type": "code",
   "execution_count": null,
   "metadata": {},
   "outputs": [],
   "source": [
    "val_data_path = \"./val/\"\n",
    "val_data = torchvision.datasets.ImageFolder(root=val_data_path,transform=img_transforms, is_valid_file=check_image)"
   ]
  },
  {
   "cell_type": "code",
   "execution_count": null,
   "metadata": {},
   "outputs": [],
   "source": [
    "test_data_path = \"./test/\"\n",
    "test_data = torchvision.datasets.ImageFolder(root=test_data_path,transform=img_transforms, is_valid_file=check_image) "
   ]
  },
  {
   "cell_type": "code",
   "execution_count": null,
   "metadata": {},
   "outputs": [],
   "source": [
    "batch_size=64"
   ]
  },
  {
   "cell_type": "code",
   "execution_count": null,
   "metadata": {},
   "outputs": [],
   "source": [
    "train_data_loader = torch.utils.data.DataLoader(train_data, batch_size=batch_size)\n",
    "val_data_loader  = torch.utils.data.DataLoader(val_data, batch_size=batch_size) \n",
    "test_data_loader  = torch.utils.data.DataLoader(test_data, batch_size=batch_size) "
   ]
  },
  {
   "cell_type": "markdown",
   "metadata": {},
   "source": [
    "## Our First Model, SimpleNet\n",
    "\n",
    "SimpleNet is a very simple combination of three Linear layers and ReLu activations between them. Note that as we don't do a `softmax()` in our `forward()`, we will need to make sure we do it in our training function during the validation phase."
   ]
  },
  {
   "cell_type": "code",
   "execution_count": null,
   "metadata": {},
   "outputs": [],
   "source": [
    "class SimpleNet(nn.Module):\n",
    "\n",
    "    def __init__(self):\n",
    "        super(SimpleNet, self).__init__()\n",
    "        self.fc1 = nn.Linear(12288, 84)\n",
    "        self.fc2 = nn.Linear(84, 50)\n",
    "        self.fc3 = nn.Linear(50,2)\n",
    "    \n",
    "    def forward(self, x):\n",
    "        x = x.view(-1, 12288)\n",
    "        x = F.relu(self.fc1(x))\n",
    "        x = F.relu(self.fc2(x))\n",
    "        x = self.fc3(x)\n",
    "        return x"
   ]
  },
  {
   "cell_type": "code",
   "execution_count": null,
   "metadata": {},
   "outputs": [],
   "source": [
    "simplenet = SimpleNet()"
   ]
  },
  {
   "cell_type": "markdown",
   "metadata": {},
   "source": [
    "## Create an optimizer\n",
    "\n",
    "Here, we're just using Adam as our optimizer with a learning rate of 0.001."
   ]
  },
  {
   "cell_type": "code",
   "execution_count": null,
   "metadata": {},
   "outputs": [],
   "source": [
    "optimizer = optim.Adam(simplenet.parameters(), lr=0.001)"
   ]
  },
  {
   "cell_type": "markdown",
   "metadata": {},
   "source": [
    "## Copy the model to GPU\n",
    "\n",
    "Copy the model to the GPU if available."
   ]
  },
  {
   "cell_type": "code",
   "execution_count": null,
   "metadata": {},
   "outputs": [],
   "source": [
    "if torch.cuda.is_available():\n",
    "    device = torch.device(\"cuda\") \n",
    "else:\n",
    "    device = torch.device(\"cpu\")\n",
    "\n",
    "simplenet.to(device)"
   ]
  },
  {
   "cell_type": "markdown",
   "metadata": {},
   "source": [
    "## Training \n",
    "\n",
    "Trains the model, copying batches to the GPU if required, calculating losses, optimizing the network and perform validation for each epoch."
   ]
  },
  {
   "cell_type": "code",
   "execution_count": null,
   "metadata": {},
   "outputs": [],
   "source": [
    "def train(model, optimizer, loss_fn, train_loader, val_loader, epochs=20, device=\"cpu\"):\n",
    "    for epoch in range(epochs):\n",
    "        training_loss = 0.0\n",
    "        valid_loss = 0.0\n",
    "        model.train()\n",
    "        for batch in train_loader:\n",
    "            optimizer.zero_grad()\n",
    "            inputs, targets = batch\n",
    "            inputs = inputs.to(device)\n",
    "            targets = targets.to(device)\n",
    "            output = model(inputs)\n",
    "            loss = loss_fn(output, targets)\n",
    "            loss.backward()\n",
    "            optimizer.step()\n",
    "            training_loss += loss.data.item() * inputs.size(0)\n",
    "        training_loss /= len(train_loader.dataset)\n",
    "        \n",
    "        model.eval()\n",
    "        num_correct = 0 \n",
    "        num_examples = 0\n",
    "        for batch in val_loader:\n",
    "            inputs, targets = batch\n",
    "            inputs = inputs.to(device)\n",
    "            output = model(inputs)\n",
    "            targets = targets.to(device)\n",
    "            loss = loss_fn(output,targets) \n",
    "            valid_loss += loss.data.item() * inputs.size(0)\n",
    "            correct = torch.eq(torch.max(F.softmax(output), dim=1)[1], targets).view(-1)\n",
    "            num_correct += torch.sum(correct).item()\n",
    "            num_examples += correct.shape[0]\n",
    "        valid_loss /= len(val_loader.dataset)\n",
    "\n",
    "        print('Epoch: {}, Training Loss: {:.2f}, Validation Loss: {:.2f}, accuracy = {:.2f}'.format(epoch, training_loss,\n",
    "        valid_loss, num_correct / num_examples))"
   ]
  },
  {
   "cell_type": "code",
   "execution_count": null,
   "metadata": {},
   "outputs": [],
   "source": [
    "train(simplenet, optimizer,torch.nn.CrossEntropyLoss(), train_data_loader,val_data_loader, epochs=5, device=device)"
   ]
  },
  {
   "cell_type": "markdown",
   "metadata": {},
   "source": [
    "## Making predictions\n",
    "\n",
    "Labels are in alphanumeric order, so `cat` will be 0, `fish` will be 1. We'll need to transform the image and also make sure that the resulting tensor is copied to the appropriate device before applying our model to it."
   ]
  },
  {
   "cell_type": "code",
   "execution_count": null,
   "metadata": {},
   "outputs": [],
   "source": [
    "labels = ['cat','fish']\n",
    "\n",
    "img = Image.open(\"./val/fish/100_1422.JPG\") \n",
    "img = img_transforms(img).to(device)\n",
    "\n",
    "\n",
    "prediction = F.softmax(simplenet(img))\n",
    "prediction = prediction.argmax()\n",
    "print(labels[prediction]) "
   ]
  },
  {
   "cell_type": "markdown",
   "metadata": {},
   "source": [
    "## Saving Models\n",
    "\n",
    "We can either save the entire model using `save` or just the parameters using `state_dict`. Using the latter is normally preferable, as it allows you to reuse parameters even if the model's structure changes (or apply parameters from one model to another)."
   ]
  },
  {
   "cell_type": "code",
   "execution_count": null,
   "metadata": {},
   "outputs": [],
   "source": [
    "torch.save(simplenet, \"/tmp/simplenet\") \n",
    "simplenet = torch.load(\"/tmp/simplenet\")    \n"
   ]
  },
  {
   "cell_type": "code",
   "execution_count": null,
   "metadata": {},
   "outputs": [],
   "source": [
    "torch.save(simplenet.state_dict(), \"/tmp/simplenet\")    \n",
    "simplenet = SimpleNet()\n",
    "simplenet_state_dict = torch.load(\"/tmp/simplenet\")\n",
    "simplenet.load_state_dict(simplenet_state_dict)   "
   ]
  }
 ],
 "metadata": {
  "kernelspec": {
   "display_name": "Python 3",
   "language": "python",
   "name": "python3"
  },
  "language_info": {
   "codemirror_mode": {
    "name": "ipython",
    "version": 3
   },
   "file_extension": ".py",
   "mimetype": "text/x-python",
   "name": "python",
   "nbconvert_exporter": "python",
   "pygments_lexer": "ipython3",
   "version": "3.8.8"
  }
 },
 "nbformat": 4,
 "nbformat_minor": 2
}
